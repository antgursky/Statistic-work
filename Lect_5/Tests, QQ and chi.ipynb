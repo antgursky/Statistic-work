{
 "cells": [
  {
   "cell_type": "markdown",
   "metadata": {},
   "source": [
    "# Лекция 4: QQ-plot и chi-squared"
   ]
  },
  {
   "cell_type": "markdown",
   "metadata": {},
   "source": [
    "*Подготовил: Ян Пиле*"
   ]
  },
  {
   "cell_type": "markdown",
   "metadata": {},
   "source": [
    "Умение тестировать статистические гипотезы – один из наиболее востребованных навыков аналитика. Давайте приведем пример. Мы сделали новую модель, которая умеет предсказывать, совершит ли покупку на сайте человек в ближайшую неделю. Как проверить, что мы хорошо научились угадывать? Очень просто - давайте для наших пользователей сгенерируем предсказания модели, а потом сравним эти предсказания с фактом покупок. Логично. Наша модель будет полезна, если она работает лучше, чем случайная угадайка (1/2, что купит и 1/2, что не купит). \n",
    "\n",
    "Давайте проверим гипотезу, что наша модель == подбрасывание монетки. Говорят данные в пользу такого утверждения или против него?\n"
   ]
  },
  {
   "cell_type": "markdown",
   "metadata": {},
   "source": [
    "Проверка гипотезы формализуется так:"
   ]
  },
  {
   "cell_type": "markdown",
   "metadata": {},
   "source": [
    "**Выборка**   $X_n = {X_1 ... X_n}$ из неизвестного распределения $X \\sim P$\n",
    "\n",
    "**Нулевая гипотеза**    $H_0: P \\in \\omega$ ,  где $\\omega$ - известное семейство распределений\n",
    "\n",
    "**Альтернативная гипотеза**     $H_1: P \\notin \\omega$ \n",
    "\n",
    "**Статистика**    $T(X_n)$\n",
    "\n",
    "**Нулевое распределение**    $F(T)$ - распределение статистики в случае справедливости $H_0$\n",
    "\n",
    "Если справедлива гипотеза $H_1$ , то распределение нашей статистики имеет ДРУГОЕ распределение, не  $F(T)$"
   ]
  },
  {
   "cell_type": "markdown",
   "metadata": {},
   "source": [
    "**Определение** *p-value* или достигаемый уровень значимости это вероятность получить такое же или еще более экстремальное значение статистики $T(X_n)$, чем было получено в эксперименте, при условии справедливости $H_0$"
   ]
  },
  {
   "cell_type": "markdown",
   "metadata": {},
   "source": [
    "То есть если p-value достаточно мало, это значит, что данные свидетельствуют ПРОТИВ нулевой гипотезы, потому что вероятность получить такое значение при ее справедливости – маленькая величина. Обычно p-value сравнивают с наперед заданным уровнем значимости $\\alpha$, которы обычно берется за 0.05 или 0.01. Ну и если $p-value < \\alpha$, говорят, что нулевая гипотеза ОТВЕРГАЕТСЯ в пользу альтернативы."
   ]
  },
  {
   "cell_type": "markdown",
   "metadata": {},
   "source": [
    "<img src=\"https://be5.biz/ekonomika/e008/image/pic_186.jpg\" width=\"500\">"
   ]
  },
  {
   "cell_type": "markdown",
   "metadata": {},
   "source": [
    "При тестировании гипотез существуют два вида ошибок: неверно отклоняется или неверно принимается гипотеза. В тестировании гипотез считается, что ошибка первого рода критичнее, так как вероятность отвержения нулевой гипотезы оказывается ограниченной сверху нашим уровнем значимости:\n",
    "$$P(\\text{ошибка первого рода})\\le\\alpha$$"
   ]
  },
  {
   "cell_type": "markdown",
   "metadata": {},
   "source": [
    "Ошибки второго рода так явно не минимизируются. Вероятность ошибки второго рода напрямую связана с понятием мощности статистического критерия,  то есть:\n",
    "$$P(\\text{вероятность отвергнуть $H_0$}|H_1) = 1 - P(\\text{вероятность принять $H_0$}|H_1)$$\n",
    "\n",
    "То есть среди всех подходящих критериев мы должны выбрать тот, у которого максимальная мощность."
   ]
  },
  {
   "cell_type": "markdown",
   "metadata": {},
   "source": [
    "Даже в терминологии здесь видна несимметричность. Если достигаемый уровень значимости меньше $\\alpha$, то гипотеза $H_0$ отвергается, а если не меньше, то НЕ отвергается (а не принимается, как ожидалось). То есть это не доказательство того, что $H_0$ верна."
   ]
  },
  {
   "cell_type": "markdown",
   "metadata": {},
   "source": [
    "## Размер эффекта"
   ]
  },
  {
   "cell_type": "markdown",
   "metadata": {},
   "source": [
    "Когда мы проводим тестирование гипотез, нас на самом деле интересует некий дополнительный эффект, который мы можем получить за счет тестируемой функциональности, например кол-во дополнительных заказов от новой программы лояльности, увеличение длины диалога с голосовым помощником от новой диалоговой механики или добавочная вероятность выздоровления от применения нового способа лечения болезни. Мы с вами не можем оценить этот эффект на всей генеральной совокупности и поэтому оцениваем его по выборке. Вот тут-то нам и пригождается достигаемый уровень значимости, чтобы понять, с какой вероятностью такой же эффект можно было бы получить случайно."
   ]
  },
  {
   "cell_type": "markdown",
   "metadata": {},
   "source": [
    "p сильно зависит не только от размера эффекта, но и от размера выборки. На больших выборках вы будете замечать все более и более тонкие отклонения от нулевой гипотезы и при каком-то n почти все $H_0$ будут отвергаться."
   ]
  },
  {
   "cell_type": "markdown",
   "metadata": {},
   "source": [
    "Поэтому эффект часто надо оценивать с прикладной точки зрения. Например если в течение трех лет регулярные тренировки в спортзале по некой системе помогли людям с ожирением снизить массу тела в среднем на 200 граммов и этот эффект статистически значим, представляется весьма сомнительным, что кто-либо желающий похудеть получит от такой цифры моральное удовлетворение. А значит в контексте похудения этот эффект практически бесполезен."
   ]
  },
  {
   "cell_type": "markdown",
   "metadata": {},
   "source": [
    "С другой стороны, не все статистически не значимые эксперименты бессмысленны. Скажем, если вы изобрели новое лекарство от вируса COVID-19, протестировали его на добровольцах, оно показывает хорошие результаты (люди выздоравливают, побочных эффектов нет), но при этом результат не стал статистически значимым, это не повод все бросить. Исследования стоит продолжать, потому что практически такой эффект может оказаться значимым. Возможно вам стоит подумать об уменьшении дисперсии в вашем исследовании."
   ]
  },
  {
   "cell_type": "markdown",
   "metadata": {},
   "source": [
    "# Параметрические критерии \n",
    "\n",
    "Так называют критерии, которые делают некие предположения о характере распределений. А мы, в частности, будем оценивать какие-либо параметры этих распределений. Начнем с проверки гипотез, связанных с признаками, распределенными нормально. Начнем с так называемых критериев Стьюдента о математических ожиданиях. "
   ]
  },
  {
   "cell_type": "markdown",
   "metadata": {},
   "source": [
    "## Биномиальный тест для доли"
   ]
  },
  {
   "cell_type": "markdown",
   "metadata": {},
   "source": [
    "## Lady tasting tea experiment\n",
    "\n",
    "Известный статистик Рональд Фишер провел эксперимент, в котором предложил даме 8 чашек чая, в 4 из которых сначала добавили чай, а потом молоко, а в 4 другие – наоборот (сначала молоко, потом чай). Ей необходимо было разбить чашки на две группы (первым было молоко или первым был чай). Проверялась гипотеза о том, что дама случайно угадывает, что было налито первым. В ходе анализа этого эксперимента Фишер придумал так называемый [Точный тест Фишера](https://ru.wikipedia.org/wiki/Точный_тест_Фишера), а дама подтвердила свое умение определять, что было первым налито в чашку.\n",
    "\n",
    "Проведем эксперимент чуть иначе. Предложим даме 20 чашек (по две за раз) и будем спрашивать в какой чашке из пары сначала налито молоко. Тогда наш эксперимент - бинарный вектор длины 10 (допустим 0 - налит чай, а 1 -налито молоко)."
   ]
  },
  {
   "cell_type": "markdown",
   "metadata": {},
   "source": [
    "Если нулевая гипотеза о выборе наугад справедлива , то мы равновероятно можем получить любой из $2^n$ бинарных векторов длины $n$. \n",
    "\n",
    "Нулевая гипотеза выбора наугад соответствует значению $p=\\frac1{2}$, то есть, в каждом эксперименте вероятность выбора чая, в который сначала налито молоко – $\\frac1{2}$. Сумма $n$ одинаково распределённых бернуллиевских случайных величин с параметром $p$ имеет биномиальное распределение $Bin(n, p)$. Значит наше нулевое распределение статистики $T$ — $Bin\\left(n, \\frac1{2}\\right)$.\n",
    "\n",
    "Мы уже сказали, что $n=10.$"
   ]
  },
  {
   "cell_type": "code",
   "execution_count": 2,
   "metadata": {},
   "outputs": [],
   "source": [
    "import numpy as np\n",
    "import pandas as pd\n",
    "from scipy import stats\n",
    "import scipy"
   ]
  },
  {
   "cell_type": "code",
   "execution_count": 2,
   "metadata": {},
   "outputs": [
    {
     "name": "stdout",
     "output_type": "stream",
     "text": [
      "%pylab is deprecated, use %matplotlib inline and import the required libraries.\n",
      "Populating the interactive namespace from numpy and matplotlib\n"
     ]
    }
   ],
   "source": [
    "%pylab inline"
   ]
  },
  {
   "cell_type": "code",
   "execution_count": 297,
   "metadata": {},
   "outputs": [],
   "source": [
    "n = 10\n",
    "F_H0 = stats.binom(n, 0.5)"
   ]
  },
  {
   "cell_type": "code",
   "execution_count": 298,
   "metadata": {},
   "outputs": [
    {
     "data": {
      "image/png": "[encoded data removed]",
      "text/plain": [
       "<Figure size 432x288 with 1 Axes>"
      ]
     },
     "metadata": {
      "needs_background": "light"
     },
     "output_type": "display_data"
    }
   ],
   "source": [
    "x = np.linspace(0,9,10)\n",
    "\n",
    "pylab.bar(x, F_H0.pmf(x))\n",
    "xlim(-0.5, 16.5) \n",
    "pylab.show()"
   ]
  },
  {
   "cell_type": "markdown",
   "metadata": {},
   "source": [
    "## Односторонняя альтернатива\n",
    "\n",
    "Означает, что мы проверяем гипотезу, что дама угадывает лучше чем случайный классификатор (чаще действительно угадывает молоко).\n"
   ]
  },
  {
   "cell_type": "code",
   "execution_count": 299,
   "metadata": {},
   "outputs": [
    {
     "data": {
      "text/plain": [
       "0.010742187499999998"
      ]
     },
     "execution_count": 299,
     "metadata": {},
     "output_type": "execute_result"
    }
   ],
   "source": [
    "stats.binom_test(9, 10, 0.5, alternative = 'greater')"
   ]
  },
  {
   "cell_type": "markdown",
   "metadata": {},
   "source": [
    "## Двусторонняя альтернатива\n",
    "\n",
    "Означает, что мы проверяем гипотезу, что угадывает не как случайный классификатор (или чаще действительно угадывает молоко или чаще вместо молока указывает на чай)"
   ]
  },
  {
   "cell_type": "code",
   "execution_count": 301,
   "metadata": {},
   "outputs": [
    {
     "data": {
      "text/plain": [
       "0.021484374999999997"
      ]
     },
     "execution_count": 301,
     "metadata": {},
     "output_type": "execute_result"
    }
   ],
   "source": [
    "stats.binom_test(9, 10, 0.5, alternative = 'two-sided')"
   ]
  },
  {
   "cell_type": "markdown",
   "metadata": {},
   "source": [
    "Заметьте, что и в первом случае для стат.значимости надо угадать 9 раз из 10, а во втором - или угадать 9 раз или ошибиться 9 раз."
   ]
  },
  {
   "cell_type": "markdown",
   "metadata": {},
   "source": [
    "## Связь с доверительными интервалами"
   ]
  },
  {
   "cell_type": "markdown",
   "metadata": {},
   "source": [
    "Понятно, что тестирование гипотез напрямую связано с построением доверительных интервалов. Возьмем задачку о сравнении классификатора на сбалансированной выборке(50 на 50) с подбрасыванием монетки (генератором случайных чисел). Если построить 95% доверительный интервал для доли  верно угаданных ответов и он не будет содержать 0.5 (вероятность случайного угадывания), можно смело утверждать, что на уровне 95% гипотеза об идентичности вашего классификатора и генератора случайных чисел отвергается. "
   ]
  },
  {
   "cell_type": "markdown",
   "metadata": {},
   "source": [
    "**Выборка**    $X_n = {X_1 ... X_n}$ из неизвестного распределения $X \\sim P$\n",
    "\n",
    "**Нулевая гипотеза**    $H_0: \\theta = \\theta_0$\n",
    "\n",
    "**Альтернативная гипотеза**     $H_1: \\theta \\not= \\theta_0$ \n",
    "\n",
    "\n",
    "$H_0$ отвергается на уровне значимости $100(1-\\alpha)$, если доверительный интервал для $\\theta$ не содержит $\\theta_0$"
   ]
  },
  {
   "cell_type": "markdown",
   "metadata": {},
   "source": [
    "*p-value* здесь можно найти численно как такое значение $\\alpha$, что $\\theta_0$ будет попадать ровно на границу доверительного интервала."
   ]
  },
  {
   "cell_type": "markdown",
   "metadata": {},
   "source": [
    "Пусть у нас есть ответы классификатора для задачи с двумя сбалансированными выборками. Будем обозначать правильный ответ за 1, а неправильный - за 0. На тестовой выборке длины 1000 классификатор верно угадал 600 из 1000 ответов. Лучше ли он, чем бросание монетки?"
   ]
  },
  {
   "cell_type": "markdown",
   "metadata": {},
   "source": [
    "# Вспомним нашу задачу о двух гейзерах"
   ]
  },
  {
   "cell_type": "code",
   "execution_count": 4,
   "metadata": {},
   "outputs": [],
   "source": [
    "import pandas as pd\n",
    "df = pd.read_csv('https://gist.githubusercontent.com/curran/4b59d1046d9e66f2787780ad51a1cd87/raw/9ec906b78a98cf300947a37b56cfe70d01183200/data.tsv', sep='\\t')\n",
    "df.head()\n",
    "df['time']=df['eruptions']*60"
   ]
  },
  {
   "cell_type": "code",
   "execution_count": 10,
   "metadata": {},
   "outputs": [],
   "source": [
    "import matplotlib.pyplot as plt"
   ]
  },
  {
   "cell_type": "code",
   "execution_count": 7,
   "metadata": {},
   "outputs": [],
   "source": [
    "def bootstrap_samples(data, n_samples):\n",
    "    indices = np.random.randint(0, \n",
    "                                len(data), \n",
    "                                (n_samples, len(data)))\n",
    "    samples = data[indices]\n",
    "    return samples"
   ]
  },
  {
   "cell_type": "code",
   "execution_count": 8,
   "metadata": {},
   "outputs": [],
   "source": [
    "def boundaries_with_quantiles(stat, alpha):\n",
    "    lr = np.quantile(stat, [alpha / 2., (1 - alpha / 2.)])\n",
    "    return lr"
   ]
  },
  {
   "cell_type": "code",
   "execution_count": 11,
   "metadata": {},
   "outputs": [
    {
     "name": "stdout",
     "output_type": "stream",
     "text": [
      "95% доверительный интервал для времени извержения Old Faithful: [229.98 246.51]\n"
     ]
    },
    {
     "data": {
      "image/png": "[encoded data removed]",
      "text/plain": [
       "<Figure size 640x480 with 1 Axes>"
      ]
     },
     "metadata": {},
     "output_type": "display_data"
    }
   ],
   "source": [
    "np.random.seed(42)\n",
    "\n",
    "eruptions = df['time'].values\n",
    "\n",
    "bootstrapped_medians = list(map(np.median, bootstrap_samples(eruptions, 1000)))\n",
    "\n",
    "print(\"95% доверительный интервал для времени извержения Old Faithful:\",  \n",
    "      boundaries_with_quantiles(bootstrapped_medians, 0.05))\n",
    "\n",
    "hh = plt.hist(eruptions)"
   ]
  },
  {
   "cell_type": "markdown",
   "metadata": {},
   "source": [
    "Второй гейзер"
   ]
  },
  {
   "cell_type": "code",
   "execution_count": 12,
   "metadata": {},
   "outputs": [],
   "source": [
    "data_raw =[\n",
    "'4m 35s',\n",
    "'5m 13s',\n",
    "'4m 55s',\n",
    "'4m 46s',\n",
    "'4m 53s',\n",
    "'4m 58s ',\n",
    "'4m 52s ',\n",
    "'4m 47s ',\n",
    "'4m 47s ',\n",
    "'4m 42s ',\n",
    "'4m 49s ',\n",
    "'4m 45s ',\n",
    "'4m 56s ',\n",
    "'4m 35s ',\n",
    "'4m 51s',\n",
    "'4m 42s',\n",
    "'4m 50',\n",
    "'4m 39s',\n",
    "'4m 52s ',\n",
    "'4m 42s',\n",
    "'5m 18s',\n",
    "'4m 53s',\n",
    "'5m 2s']"
   ]
  },
  {
   "cell_type": "code",
   "execution_count": 13,
   "metadata": {},
   "outputs": [],
   "source": [
    "import re\n",
    "def process(x):\n",
    "    st = list(map(int,re.findall(r'\\d+',x)))\n",
    "    return st[0]*60+st[1]"
   ]
  },
  {
   "cell_type": "code",
   "execution_count": 15,
   "metadata": {},
   "outputs": [
    {
     "data": {
      "image/png": "[encoded data removed]",
      "text/plain": [
       "<Figure size 640x480 with 1 Axes>"
      ]
     },
     "metadata": {},
     "output_type": "display_data"
    }
   ],
   "source": [
    "data_processed = np.array(list(map(process,data_raw)))\n",
    "hh = plt.hist(data_processed)"
   ]
  },
  {
   "cell_type": "code",
   "execution_count": 17,
   "metadata": {},
   "outputs": [
    {
     "name": "stdout",
     "output_type": "stream",
     "text": [
      "95% доверительный интервал для времени извержения Beehive: [286. 293.]\n"
     ]
    }
   ],
   "source": [
    "bootstrapped_medians_2 = list(map(np.median, bootstrap_samples(data_processed, 1000)))\n",
    "\n",
    "print(\"95% доверительный интервал для времени извержения Beehive:\",  \n",
    "      boundaries_with_quantiles(bootstrapped_medians_2, 0.05))"
   ]
  },
  {
   "cell_type": "code",
   "execution_count": 18,
   "metadata": {},
   "outputs": [],
   "source": [
    "median_difference = list(map(lambda x: x[1] - x[0], zip(bootstrapped_medians, \n",
    "                                                        bootstrapped_medians_2)))"
   ]
  },
  {
   "cell_type": "code",
   "execution_count": 20,
   "metadata": {},
   "outputs": [
    {
     "data": {
      "text/plain": [
       "(array([ 11.,  81., 252., 329., 185.,  91.,  41.,   7.,   2.,   1.]),\n",
       " array([37.02 , 40.918, 44.816, 48.714, 52.612, 56.51 , 60.408, 64.306,\n",
       "        68.204, 72.102, 76.   ]),\n",
       " <BarContainer object of 10 artists>)"
      ]
     },
     "execution_count": 20,
     "metadata": {},
     "output_type": "execute_result"
    },
    {
     "data": {
      "image/png": "[encoded data removed]",
      "text/plain": [
       "<Figure size 640x480 with 1 Axes>"
      ]
     },
     "metadata": {},
     "output_type": "display_data"
    }
   ],
   "source": [
    "plt.hist(median_difference)"
   ]
  },
  {
   "cell_type": "code",
   "execution_count": 327,
   "metadata": {},
   "outputs": [
    {
     "data": {
      "text/plain": [
       "array([36., 77.])"
      ]
     },
     "execution_count": 327,
     "metadata": {},
     "output_type": "execute_result"
    }
   ],
   "source": [
    "boundaries_with_quantiles(median_difference, 1e-100)"
   ]
  },
  {
   "cell_type": "markdown",
   "metadata": {},
   "source": [
    "В нашем случае гипотеза о равенстве двух медиан уверенно отвергается. Заметьте, что даже для очень маленького p-value, граница не пересекает ноль. Попробуйте подумать, почему так."
   ]
  },
  {
   "cell_type": "markdown",
   "metadata": {},
   "source": [
    "# Как проверить нормальность (и вообще принадлежность к распределению)\n"
   ]
  },
  {
   "cell_type": "markdown",
   "metadata": {},
   "source": [
    "Мы до сих пор работали в предположении, что наша выборка взята из нормального распределения. На самом деле, это утверждение неплохо было бы проверять. Например это можно сделать с помощью критерия Хи-квадрат. Здесь мы его применим для сравнения с нормальным распределением, но вообще он годится для проверки соответствия распределения ЛЮБОМУ заданному теоретическому закону."
   ]
  },
  {
   "cell_type": "markdown",
   "metadata": {},
   "source": [
    "## Критерий $\\chi^2$\n",
    "\n",
    "\n",
    "**Выборка**    $X_n = {X_1 ... X_n}$ из нормального распределения , при этом $\\sigma$ неизвестно.\n",
    "\n",
    "**Нулевая гипотеза**    $H_0: X \\sim N(\\mu,\\sigma^2)$\n",
    "\n",
    "**Альтернативная гипотеза**     $H_1: X \\not\\sim N(\\mu,\\sigma^2)$ \n",
    "\n",
    "Мы разбиваем область определения нашей величины на $K$ интервалов (бакетов/карманов). Границы этих интервалов – $a_i$. Подсчитаем следующие значения:\n",
    "\n",
    "$n_i$ - количество элементов нашей выборки в интервале $[a_i,a_{i+1}]$\n",
    "\n",
    "$p_i$ - вероятность попадания значения в интервал $[a_i,a_{i+1}]$ при условии справедливости $H_0$. Нам для этого надо будет взять функцию нормального распределения и посчитать ее разность в точках $a_i$ и $a_{i+1}$:\n",
    "\n",
    "$p_i = F_{N(\\mu,\\sigma^2)}(a_{i+1}) - F_{N(\\mu,\\sigma^2)}(a_{i})$\n",
    "\n",
    "\n",
    "\n",
    "\n",
    "\n",
    "**Статистика** $\\chi^2(X_n) = \\sum^{K}_{i=1}\\dfrac{(n_i-np_i)^2}{np_i}$\n",
    "\n",
    "**Нулевое распределение** $\\chi^2(X_n) = \\begin{cases} \\chi^2_{K-1}, & \\text{Если нам известны $\\mu$ и $\\sigma$} \\\\ \\chi^2_{K-3}, & \\text{Если $\\mu$ и $\\sigma$ мы оцениваем по выборке} \\end{cases}$\n"
   ]
  },
  {
   "cell_type": "markdown",
   "metadata": {},
   "source": [
    "Давайте для примера возьмем выборку из нормального распределения с параметрами $\\mu$ и $\\sigma$ и добавим к ней случайный шум $\\sim exponential(1)$. То есть наша случайная величина будет иметь распределение:\n",
    "$$X \\sim N(\\mu,\\sigma^2)+exponential(1)$$\n",
    "\n",
    "Пусть, например, "
   ]
  },
  {
   "cell_type": "code",
   "execution_count": 1,
   "metadata": {},
   "outputs": [],
   "source": [
    "import numpy as np\n",
    "# np.random.seed(31)\n",
    "\n",
    "sample = np.array([np.random.normal(70, 5)+ np.random.exponential(1) for _ in range(1000)])"
   ]
  },
  {
   "cell_type": "code",
   "execution_count": 2,
   "metadata": {},
   "outputs": [
    {
     "data": {
      "image/png": "[encoded data removed]",
      "text/plain": [
       "<Figure size 640x480 with 1 Axes>"
      ]
     },
     "metadata": {},
     "output_type": "display_data"
    }
   ],
   "source": [
    "import matplotlib.pyplot as plt\n",
    "from matplotlib.pyplot import hist\n",
    "from scipy.stats import norm\n",
    "\n",
    "h1 = plt.hist(sample, bins = 30)"
   ]
  },
  {
   "cell_type": "code",
   "execution_count": 3,
   "metadata": {},
   "outputs": [],
   "source": [
    "intervals = np.linspace(min(sample), max(sample),31)"
   ]
  },
  {
   "cell_type": "code",
   "execution_count": 4,
   "metadata": {},
   "outputs": [
    {
     "data": {
      "text/plain": [
       "array([56.59148454, 57.76379368, 58.93610282, 60.10841197, 61.28072111,\n",
       "       62.45303025, 63.6253394 , 64.79764854, 65.96995768, 67.14226683,\n",
       "       68.31457597, 69.48688511, 70.65919426, 71.8315034 , 73.00381254,\n",
       "       74.17612169, 75.34843083, 76.52073997, 77.69304912, 78.86535826,\n",
       "       80.0376674 , 81.20997655, 82.38228569, 83.55459483, 84.72690398,\n",
       "       85.89921312, 87.07152226, 88.24383141, 89.41614055, 90.58844969,\n",
       "       91.76075884])"
      ]
     },
     "execution_count": 4,
     "metadata": {},
     "output_type": "execute_result"
    }
   ],
   "source": [
    "intervals"
   ]
  },
  {
   "cell_type": "code",
   "execution_count": 4,
   "metadata": {},
   "outputs": [],
   "source": [
    "from scipy.stats import chisquare"
   ]
  },
  {
   "cell_type": "code",
   "execution_count": 5,
   "metadata": {},
   "outputs": [],
   "source": [
    "expected = []\n",
    "observed = []\n",
    "for i in range(1,len(intervals)):\n",
    "    observed.append(len(sample[(sample < intervals[i]) & (sample >= intervals[i-1])]))\n",
    "    expected.append((norm.cdf(intervals[i], 70, 5) - norm.cdf(intervals[i-1], 70, 5))*len(sample))"
   ]
  },
  {
   "cell_type": "code",
   "execution_count": 6,
   "metadata": {},
   "outputs": [
    {
     "data": {
      "text/plain": [
       "[6,\n",
       " 3,\n",
       " 3,\n",
       " 10,\n",
       " 20,\n",
       " 22,\n",
       " 33,\n",
       " 51,\n",
       " 69,\n",
       " 93,\n",
       " 77,\n",
       " 85,\n",
       " 89,\n",
       " 95,\n",
       " 71,\n",
       " 70,\n",
       " 55,\n",
       " 37,\n",
       " 36,\n",
       " 39,\n",
       " 22,\n",
       " 8,\n",
       " 1,\n",
       " 2,\n",
       " 0,\n",
       " 2,\n",
       " 0,\n",
       " 0,\n",
       " 0,\n",
       " 0]"
      ]
     },
     "execution_count": 6,
     "metadata": {},
     "output_type": "execute_result"
    }
   ],
   "source": [
    "observed"
   ]
  },
  {
   "cell_type": "code",
   "execution_count": 7,
   "metadata": {},
   "outputs": [
    {
     "data": {
      "text/plain": [
       "<BarContainer object of 30 artists>"
      ]
     },
     "execution_count": 7,
     "metadata": {},
     "output_type": "execute_result"
    },
    {
     "data": {
      "image/png": "[encoded data removed]",
      "text/plain": [
       "<Figure size 1200x700 with 1 Axes>"
      ]
     },
     "metadata": {},
     "output_type": "display_data"
    }
   ],
   "source": [
    "import matplotlib.pyplot as plt\n",
    "fig, ax = plt.subplots(1, 1, figsize=(12,7))\n",
    "ax.bar(range(30),expected)\n",
    "ax.bar(range(30),observed, alpha=.5)\n"
   ]
  },
  {
   "cell_type": "code",
   "execution_count": 10,
   "metadata": {},
   "outputs": [],
   "source": [
    "from scipy.stats import chisquare\n",
    "# chisquare(observed, expected)"
   ]
  },
  {
   "cell_type": "markdown",
   "metadata": {},
   "source": [
    "Наш тест уверенно отвергает нормальность с параметрами 70 и 5. В самом деле - распределение перекосило вправо. Давайте теперь оценим параметры нашего распределения по выборке. При этом кол-во степеней свободы уменьшается на 2. У распределения Хи-квадрат берется интеграл по правому хвосту от полученного в эксперименте значения статистики и до бесконечности."
   ]
  },
  {
   "cell_type": "code",
   "execution_count": 11,
   "metadata": {},
   "outputs": [],
   "source": [
    "std = np.std(sample)\n",
    "mu = np.mean(sample)"
   ]
  },
  {
   "cell_type": "code",
   "execution_count": 12,
   "metadata": {},
   "outputs": [],
   "source": [
    "expected = []\n",
    "observed = []\n",
    "for i in range(1,len(intervals)):\n",
    "    observed.append(len(sample[(sample < intervals[i]) & (sample >= intervals[i-1])]))\n",
    "    expected.append((norm.cdf(intervals[i], mu, std) - norm.cdf(intervals[i-1], mu, std))*len(sample))"
   ]
  },
  {
   "cell_type": "code",
   "execution_count": 13,
   "metadata": {},
   "outputs": [],
   "source": [
    "# chisquare(observed, expected, ddof = 2)"
   ]
  },
  {
   "cell_type": "code",
   "execution_count": 14,
   "metadata": {},
   "outputs": [
    {
     "data": {
      "text/plain": [
       "<BarContainer object of 30 artists>"
      ]
     },
     "execution_count": 14,
     "metadata": {},
     "output_type": "execute_result"
    },
    {
     "data": {
      "image/png": "[encoded data removed]",
      "text/plain": [
       "<Figure size 1200x700 with 1 Axes>"
      ]
     },
     "metadata": {},
     "output_type": "display_data"
    }
   ],
   "source": [
    "fig, ax = plt.subplots(1, 1, figsize=(12,7))\n",
    "ax.bar(range(30),expected)\n",
    "ax.bar(range(30),observed, alpha=.5)"
   ]
  },
  {
   "cell_type": "markdown",
   "metadata": {},
   "source": [
    "Гипотеза о нормальности выборки уже не отвергается. (Заметьте, мы знаем точно, что она не нормальная). Вот у нас и произошла ошибка первого рода). Тем не менее, на такой выборке мы весьма вероятно сможем применить t-test (который, на самом деле, к некоторым отклонениям от нормальности не так чувствителен)"
   ]
  },
  {
   "cell_type": "markdown",
   "metadata": {},
   "source": [
    "Проблема вышеописанного метода Хи-квадрат заключается в том, что количество бакетов заранее не определено и при его изменении мы точно будем получать разные результаты. Кроме того, выборка должна быть достаточно большой (формально - в 80% бакетов ожидаемое кол-во наблюдений должно быть не менее чем 5)."
   ]
  },
  {
   "cell_type": "markdown",
   "metadata": {},
   "source": [
    "## QQ-plot и Критерий Шапиро-Уилка"
   ]
  },
  {
   "cell_type": "markdown",
   "metadata": {},
   "source": [
    "Есть намного более удобный способ визуальной и численной проверки нормальности. Это так называемый QQ-график."
   ]
  },
  {
   "cell_type": "code",
   "execution_count": 4,
   "metadata": {},
   "outputs": [
    {
     "name": "stdout",
     "output_type": "stream",
     "text": [
      "%pylab is deprecated, use %matplotlib inline and import the required libraries.\n",
      "Populating the interactive namespace from numpy and matplotlib\n"
     ]
    }
   ],
   "source": [
    "%pylab inline\n",
    "import scipy\n",
    "from statsmodels.stats.weightstats import *"
   ]
  },
  {
   "cell_type": "code",
   "execution_count": 6,
   "metadata": {},
   "outputs": [],
   "source": [
    "smpl = normal(70, 5, size = 1000) + exponential(9, size = 1000) "
   ]
  },
  {
   "cell_type": "code",
   "execution_count": 8,
   "metadata": {},
   "outputs": [
    {
     "data": {
      "image/png": "[encoded data removed]",
      "text/plain": [
       "<Figure size 640x480 with 1 Axes>"
      ]
     },
     "metadata": {},
     "output_type": "display_data"
    }
   ],
   "source": [
    "plt.hist(smpl)\n",
    "plt.show()"
   ]
  },
  {
   "cell_type": "code",
   "execution_count": 10,
   "metadata": {},
   "outputs": [
    {
     "data": {
      "image/png": "[encoded data removed]",
      "text/plain": [
       "<Figure size 640x480 with 1 Axes>"
      ]
     },
     "metadata": {},
     "output_type": "display_data"
    }
   ],
   "source": [
    "z=smpl\n",
    "stats.probplot(z,dist=stats.norm,plot=pylab)\n",
    "pylab.show()"
   ]
  },
  {
   "cell_type": "code",
   "execution_count": 12,
   "metadata": {},
   "outputs": [
    {
     "data": {
      "image/png": "[encoded data removed]",
      "text/plain": [
       "<Figure size 640x480 with 1 Axes>"
      ]
     },
     "metadata": {},
     "output_type": "display_data"
    }
   ],
   "source": [
    "f = stats.probplot(smpl, dist=\"norm\", plot=pylab)"
   ]
  },
  {
   "cell_type": "markdown",
   "metadata": {},
   "source": [
    "### Чтобы построить QQ-график, нужно:\n",
    "\n",
    "* отсортировать выборку по неубыванию.\n",
    "* каждая точка выборки ставится на QQ-график, значения отображаются по оси Y\n",
    "* значение по Х - мат.ожидание квантиля распределения N(0,1), посчитанного по выборке такого как в нашем эксперименте объема.\n",
    "\n",
    "Понятно, что в случае нормальной выборки этот график должен лечь на прямую или, по крайней мере, быть близок к ней. Если ваши точки лучше описываются не прямой, а какой-то другой функцией, то наверняка ваше выборка далека от нормальности. "
   ]
  },
  {
   "cell_type": "markdown",
   "metadata": {},
   "source": [
    "Оцифровать отклонения выборки от QQ-графика можно с помощью критерия Шапиро-Уилка. Выглядит он так:\n",
    "\n",
    "## Критерий Шапиро-Уилка\n",
    "\n",
    "\n",
    "**Выборка**    $X_n = {X_1 ... X_n}$ \n",
    "\n",
    "**Нулевая гипотеза**    $H_0: X \\sim N(\\mu,\\sigma^2)$\n",
    "\n",
    "**Альтернативная гипотеза**     $H_1: X \\not\\sim N(\\mu,\\sigma^2)$ \n",
    "\n",
    "Превращаем нашу выборку в вариационный ряд и строим QQ-график.\n",
    "\n",
    "**Статистика** $W(X_n) = \\dfrac{(\\sum^{n}_{i=1}a_iX_{(i)})^2}{\\sum^{n}_{i=1}(X_i - \\overline{X})^2}$\n",
    "\n",
    "$a_i$ - некие табулированые величины, связанные с матожиданиями квантилей $N(0,1)$\n",
    "\n",
    "**Нулевое распределение** Табличное, в аналитическом виде не выражается.\n",
    "\n",
    "Несмотря на то, что аналитического выражения нет, и распределение и соответствующие p-value табулированы, поэтому применять такой критерий нам ничто не помешает."
   ]
  },
  {
   "cell_type": "markdown",
   "metadata": {},
   "source": [
    "Давайте проверим нормальность с помощью критерия Шапиро-Уилка."
   ]
  },
  {
   "cell_type": "code",
   "execution_count": 25,
   "metadata": {},
   "outputs": [
    {
     "data": {
      "text/plain": [
       "ShapiroResult(statistic=0.9212884306907654, pvalue=2.0211541567831966e-22)"
      ]
     },
     "execution_count": 25,
     "metadata": {},
     "output_type": "execute_result"
    }
   ],
   "source": [
    "stats.shapiro(smpl)"
   ]
  },
  {
   "cell_type": "markdown",
   "metadata": {},
   "source": [
    "Нормальность снова не отвергается :)"
   ]
  },
  {
   "cell_type": "markdown",
   "metadata": {},
   "source": [
    "## А зачем нам вообще проверять нормальность?"
   ]
  },
  {
   "cell_type": "markdown",
   "metadata": {},
   "source": [
    "Часто используются тесты, предполагающие нормальность данных, но t-тесты, например, работают и в случае некоторого отклонения от нормальности. В реальной жизни нормальных выборок не существует, потому что нормальное распределение - модель, она должна **в каком-то смысле** адекватно описывать реальную ситуацию. Кроме того, проверка нормальности - тоже статистический тест, а значит на маленьких выборках мы почти никогжа не сможем отвергнуть нормальность, а на очень больших выборках – почти всегда будем ее отвергать. Поэтому предлагаю следующий способ использования:"
   ]
  },
  {
   "cell_type": "markdown",
   "metadata": {},
   "source": [
    "1) Смотрим на специфику наших данных. Если они категориальные или бинарные, лучше использовать специальные критерии для них.\n",
    "\n",
    "2) Если величина непрерывная, постройте QQ-график. Если на нем выборка не очень сильно отклоняется от прямой, можно смело применять устойчивые к небольшим отклонениям методы. Например критерий Стьюдента.\n",
    "\n",
    "3) Если ваш метод все-таки чувствителен к нормальности, оцифруйте отклонение с помощью критерия Шапиро-Уилка \n",
    "\n",
    "4) Если критерий Шапиро-Уилка отвергает нормальность, лучше применить другой метод (например непараметрический, который не делает никаких предположений о конкретном характере распределения)\n"
   ]
  }
 ],
 "metadata": {
  "kernelspec": {
   "display_name": "Python 3 (ipykernel)",
   "language": "python",
   "name": "python3"
  },
  "language_info": {
   "codemirror_mode": {
    "name": "ipython",
    "version": 3
   },
   "file_extension": ".py",
   "mimetype": "text/x-python",
   "name": "python",
   "nbconvert_exporter": "python",
   "pygments_lexer": "ipython3",
   "version": "3.12.4"
  }
 },
 "nbformat": 4,
 "nbformat_minor": 4
}
