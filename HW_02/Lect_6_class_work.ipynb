{
 "cells": [
  {
   "cell_type": "code",
   "execution_count": null,
   "id": "e50d18c7-1770-4a93-a05e-c8cc14808989",
   "metadata": {},
   "outputs": [],
   "source": [
    "import numpy as np"
   ]
  },
  {
   "cell_type": "code",
   "execution_count": null,
   "id": "01bc2a70-d36b-4794-9057-012a777ea5a0",
   "metadata": {},
   "outputs": [],
   "source": [
    "lambdas = np.random"
   ]
  },
  {
   "cell_type": "code",
   "execution_count": null,
   "id": "ae91373d-2f11-4e34-a5b2-4ed78c289b1c",
   "metadata": {},
   "outputs": [],
   "source": []
  },
  {
   "cell_type": "code",
   "execution_count": null,
   "id": "55243cc9-166f-4e1b-907f-ffa3bc727bfc",
   "metadata": {},
   "outputs": [],
   "source": []
  },
  {
   "cell_type": "code",
   "execution_count": null,
   "id": "b374c4e9-37d5-41e8-9bac-87299bbb9238",
   "metadata": {},
   "outputs": [],
   "source": []
  },
  {
   "cell_type": "code",
   "execution_count": null,
   "id": "caa9853e-4232-4437-9588-8d0ed90d8072",
   "metadata": {},
   "outputs": [],
   "source": []
  },
  {
   "cell_type": "code",
   "execution_count": null,
   "id": "b2b38eb7-906d-43bb-93a6-a4cbdc252f95",
   "metadata": {},
   "outputs": [],
   "source": []
  },
  {
   "cell_type": "code",
   "execution_count": null,
   "id": "281c8014-010c-4cda-b929-0306da4709b5",
   "metadata": {},
   "outputs": [],
   "source": []
  },
  {
   "cell_type": "code",
   "execution_count": null,
   "id": "d601595f-b755-4496-bb69-fe5a4cbdc293",
   "metadata": {},
   "outputs": [],
   "source": []
  },
  {
   "cell_type": "code",
   "execution_count": null,
   "id": "a76e44cf-f211-43cc-8e73-b0542ed15b45",
   "metadata": {},
   "outputs": [],
   "source": []
  }
 ],
 "metadata": {
  "kernelspec": {
   "display_name": "Python 3 (ipykernel)",
   "language": "python",
   "name": "python3"
  },
  "language_info": {
   "codemirror_mode": {
    "name": "ipython",
    "version": 3
   },
   "file_extension": ".py",
   "mimetype": "text/x-python",
   "name": "python",
   "nbconvert_exporter": "python",
   "pygments_lexer": "ipython3",
   "version": "3.12.4"
  }
 },
 "nbformat": 4,
 "nbformat_minor": 5
}
